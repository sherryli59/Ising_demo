{
 "cells": [
  {
   "cell_type": "markdown",
   "id": "2655540f",
   "metadata": {},
   "source": [
    "# Overview\n",
    "\n",
    "This is meant as a supporting document for Sherry and Emmit's group meeting about basic git control, package management and testing. \n",
    "\n",
    "## First steps - building a new repo\n",
    "\n",
    "In general there are two ways to set up a new git repo. If you have some code that you would like to turn into a fresh repo then you can start things from the command line. If you have a plan for a new repo but haven't done anything yet, it's likely easier to start from the github website and clone into an empty repo that you set up there. We'll start with the command line repo from an existing repository. In this case you can begin by initializing git and adding everything locally. \n"
   ]
  },
  {
   "cell_type": "code",
   "execution_count": null,
   "id": "07b5f667",
   "metadata": {},
   "outputs": [],
   "source": [
    "!git init\n",
    "!git add .\n",
    "!git commit -m \"First commit\"\n",
    "!git branch -M main"
   ]
  },
  {
   "cell_type": "markdown",
   "id": "b9ec7e25",
   "metadata": {},
   "source": [
    "This will initialize local git management and make the first commit for the new project. After this we can create a new github repository and push to that. "
   ]
  },
  {
   "cell_type": "code",
   "execution_count": null,
   "id": "95937da1",
   "metadata": {},
   "outputs": [],
   "source": [
    "#!git remote add origin $YOUR_GIT_REPO_URL$ #for example: https://github.com/sherryli59/Ising_demo.git\n",
    "!git fetch origin\n",
    "!git remote add origin https://github.com/sherryli59/Ising_demo.git\n",
    "\n",
    "!git branch --set-upsRream-to=origin/main main\n",
    "!git push -u origin main"
   ]
  },
  {
   "cell_type": "markdown",
   "id": "5e0ee352",
   "metadata": {},
   "source": [
    "These commands will create the new remote (changing to your preferred location) and push existing work to that file. \n",
    "\n",
    "### Starting from GitHub\n",
    "\n",
    "If you have to start from github, then you will initialize your directory and locally run \n"
   ]
  },
  {
   "cell_type": "code",
   "execution_count": null,
   "id": "b351224f",
   "metadata": {},
   "outputs": [],
   "source": [
    "!git clone https://github.com/sherryli59/Ising.git"
   ]
  },
  {
   "cell_type": "markdown",
   "id": "e42303de",
   "metadata": {},
   "source": [
    "Since this is simpler, this is generally preferred for new projects. In either method, at this point we can begin using git to manage our changes as desired. "
   ]
  },
  {
   "cell_type": "markdown",
   "id": "b0091144",
   "metadata": {},
   "source": [
    "## Building a package\n",
    "\n",
    "One useful way to manage our code once we have it built is to create a package that we can install locally. This can be done by writing a setup.py file (an example can be found in the ising projects root directory). Once this is done we can build the package for use locally. This will also reflect any changes in the underlying code in python so there's no need to reinstall the package if we change the code. To install the package we should create a new conda directory as"
   ]
  },
  {
   "cell_type": "code",
   "execution_count": null,
   "id": "16cf1ba1",
   "metadata": {},
   "outputs": [],
   "source": [
    "!conda create -n ising -y\n",
    "!conda init\n",
    "!conda activate ising"
   ]
  },
  {
   "attachments": {},
   "cell_type": "markdown",
   "id": "7cd9894b",
   "metadata": {},
   "source": [
    "It's helpful to build a package out of our project from the very beginning so we don't have to deal with relative import drama. One way to do this is through a setup.py file. We can install the package using pip and dependencies will automatically be added to our conda environment. Note that the -e flag is to make sure the package is in an editable state so that so you don't have to re-install the package every time you edit it locally."
   ]
  },
  {
   "cell_type": "code",
   "execution_count": null,
   "id": "29cbbf04",
   "metadata": {},
   "outputs": [],
   "source": [
    "!pip install -e .\n",
    "# alternatively, you can run `!sudo python setup.py develop clean` to install the package in development mode"
   ]
  },
  {
   "cell_type": "markdown",
   "id": "85d024a6",
   "metadata": {},
   "source": [
    "# Other useful git features\n",
    "\n",
    "One good option to make git usage more consistent is to use pre-commit hooks. These are local instructions that will be executed whenever a commit is made. They can be stored in .git/hooks/pre-commit (there is an existing file called pre-commit.sample that provides basic funcitonality). One of the better usages of pre-commit hooks is to automatically use a code formatting software such as black or autopep8. An example of a commit to automatically apply black to python files is below. "
   ]
  },
  {
   "cell_type": "code",
   "execution_count": null,
   "id": "4cce8887",
   "metadata": {},
   "outputs": [],
   "source": [
    "!/bin/bash\n",
    "\n",
    "# Find all Python files in the repository\n",
    "python_files=$(git ls-files | grep '\\.py$')\n",
    "\n",
    "# Check if there are any Python files\n",
    "if [ -n \"$python_files\" ]; then\n",
    "    # Run black on each Python file\n",
    "    for file in $python_files; do\n",
    "        black --check \"$file\"\n",
    "        # Check if black modified the file\n",
    "        if [[ $? -ne 0 ]]; then\n",
    "            echo \"Error: black failed to run on $file\"\n",
    "            exit 1\n",
    "        fi\n",
    "    done\n",
    "fi\n",
    "\n",
    "# Continue with the commit\n",
    "exit 0"
   ]
  },
  {
   "attachments": {},
   "cell_type": "markdown",
   "id": "a37c9dff",
   "metadata": {},
   "source": []
  },
  {
   "cell_type": "code",
   "execution_count": null,
   "id": "7b569ea3",
   "metadata": {},
   "outputs": [],
   "source": []
  },
  {
   "attachments": {},
   "cell_type": "markdown",
   "id": "6576cb23",
   "metadata": {},
   "source": [
    "Having multiple branches in a Git repository enables isolation of Features: Each branch can represent a separate feature, bug fix, or experiment. We can work on these features independently without affecting the main codebase. In the next exercise, we want to duplicate the main branch into another branch that implements lattice gas instead. To do this, we can run"
   ]
  },
  {
   "cell_type": "code",
   "execution_count": null,
   "id": "7b9c86a3",
   "metadata": {},
   "outputs": [],
   "source": [
    "!git checkout -b lattice_gas main"
   ]
  }
 ],
 "metadata": {
  "kernelspec": {
   "display_name": "Python 3",
   "language": "python",
   "name": "python3"
  },
  "language_info": {
   "codemirror_mode": {
    "name": "ipython",
    "version": 3
   },
   "file_extension": ".py",
   "mimetype": "text/x-python",
   "name": "python",
   "nbconvert_exporter": "python",
   "pygments_lexer": "ipython3",
   "version": "3.8.10"
  },
  "vscode": {
   "interpreter": {
    "hash": "767d51c1340bd893661ea55ea3124f6de3c7a262a8b4abca0554b478b1e2ff90"
   }
  }
 },
 "nbformat": 4,
 "nbformat_minor": 5
}
